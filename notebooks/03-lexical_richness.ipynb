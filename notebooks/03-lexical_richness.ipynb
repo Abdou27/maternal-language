{
 "cells": [
  {
   "cell_type": "code",
   "execution_count": 2,
   "outputs": [],
   "source": [
    "import pandas as pd\n",
    "\n",
    "# Load the corpus of texts into a pandas DataFrame\n",
    "df = pd.read_csv('./../data/train_split.csv')"
   ],
   "metadata": {
    "collapsed": false,
    "pycharm": {
     "name": "#%%\n"
    }
   }
  },
  {
   "cell_type": "code",
   "execution_count": 3,
   "outputs": [],
   "source": [
    "import numpy as np\n",
    "from nltk import word_tokenize\n",
    "\n",
    "# Extract lexical richness metrics\n",
    "def extract_lexical_richness_metrics(text):\n",
    "    tokens = word_tokenize(text)\n",
    "    n_types = len(set(tokens))\n",
    "    n_tokens = len(tokens)\n",
    "    return n_types / n_tokens\n",
    "\n",
    "lexical_richness = []\n",
    "for text in df['text']:\n",
    "    lexical_richness.append(extract_lexical_richness_metrics(text))\n",
    "\n",
    "lexical_richness = np.array(lexical_richness)[:, None]"
   ],
   "metadata": {
    "collapsed": false,
    "pycharm": {
     "name": "#%%\n"
    }
   }
  },
  {
   "cell_type": "code",
   "execution_count": 4,
   "outputs": [
    {
     "data": {
      "text/plain": "(9900, 1)"
     },
     "execution_count": 4,
     "metadata": {},
     "output_type": "execute_result"
    }
   ],
   "source": [
    "lexical_richness.shape"
   ],
   "metadata": {
    "collapsed": false,
    "pycharm": {
     "name": "#%%\n"
    }
   }
  },
  {
   "cell_type": "code",
   "execution_count": 6,
   "outputs": [],
   "source": [
    "np.save(\"./../data/lexical_richness.npy\", lexical_richness)"
   ],
   "metadata": {
    "collapsed": false,
    "pycharm": {
     "name": "#%%\n"
    }
   }
  }
 ],
 "metadata": {
  "kernelspec": {
   "display_name": "Python 3",
   "language": "python",
   "name": "python3"
  },
  "language_info": {
   "codemirror_mode": {
    "name": "ipython",
    "version": 2
   },
   "file_extension": ".py",
   "mimetype": "text/x-python",
   "name": "python",
   "nbconvert_exporter": "python",
   "pygments_lexer": "ipython2",
   "version": "2.7.6"
  }
 },
 "nbformat": 4,
 "nbformat_minor": 0
}