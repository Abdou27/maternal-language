{
 "cells": [
  {
   "cell_type": "code",
   "execution_count": 11,
   "outputs": [],
   "source": [
    "from scipy import sparse\n",
    "import pandas as pd\n",
    "\n",
    "X = sparse.load_npz(\"./../data/all_features.npz\")\n",
    "y = pd.read_csv('./../data/train_split.csv')[\"lang\"]"
   ],
   "metadata": {
    "collapsed": false,
    "pycharm": {
     "name": "#%%\n"
    }
   }
  },
  {
   "cell_type": "code",
   "execution_count": 12,
   "outputs": [],
   "source": [
    "from sklearn.model_selection import train_test_split\n",
    "\n",
    "X_train, X_test, y_train, y_test = train_test_split(X, y, test_size=0.1, stratify=y)"
   ],
   "metadata": {
    "collapsed": false,
    "pycharm": {
     "name": "#%%\n"
    }
   }
  },
  {
   "cell_type": "code",
   "execution_count": 14,
   "outputs": [
    {
     "data": {
      "text/plain": "((8910, 641876), (990, 641876), (8910,), (990,))"
     },
     "execution_count": 14,
     "metadata": {},
     "output_type": "execute_result"
    }
   ],
   "source": [
    "X_train.shape, X_test.shape, y_train.shape, y_test.shape"
   ],
   "metadata": {
    "collapsed": false,
    "pycharm": {
     "name": "#%%\n"
    }
   }
  },
  {
   "cell_type": "code",
   "execution_count": 13,
   "outputs": [
    {
     "ename": "TypeError",
     "evalue": "A sparse matrix was passed, but dense data is required. Use X.toarray() to convert to a dense numpy array.",
     "output_type": "error",
     "traceback": [
      "\u001B[1;31m---------------------------------------------------------------------------\u001B[0m",
      "\u001B[1;31mTypeError\u001B[0m                                 Traceback (most recent call last)",
      "Cell \u001B[1;32mIn [13], line 5\u001B[0m\n\u001B[0;32m      3\u001B[0m \u001B[38;5;66;03m# train models with AutoML\u001B[39;00m\n\u001B[0;32m      4\u001B[0m text_clf \u001B[38;5;241m=\u001B[39m AutoML(mode\u001B[38;5;241m=\u001B[39m\u001B[38;5;124m\"\u001B[39m\u001B[38;5;124mCompete\u001B[39m\u001B[38;5;124m\"\u001B[39m, eval_metric\u001B[38;5;241m=\u001B[39m\u001B[38;5;124m\"\u001B[39m\u001B[38;5;124mf1\u001B[39m\u001B[38;5;124m\"\u001B[39m)\n\u001B[1;32m----> 5\u001B[0m \u001B[43mtext_clf\u001B[49m\u001B[38;5;241;43m.\u001B[39;49m\u001B[43mfit\u001B[49m\u001B[43m(\u001B[49m\u001B[43mX_train\u001B[49m\u001B[43m,\u001B[49m\u001B[43m \u001B[49m\u001B[43my_train\u001B[49m\u001B[43m)\u001B[49m\n",
      "File \u001B[1;32m~\\.conda\\envs\\Py310\\lib\\site-packages\\supervised\\automl.py:368\u001B[0m, in \u001B[0;36mAutoML.fit\u001B[1;34m(self, X, y, sample_weight, cv)\u001B[0m\n\u001B[0;32m    346\u001B[0m \u001B[38;5;28;01mdef\u001B[39;00m \u001B[38;5;21mfit\u001B[39m(\n\u001B[0;32m    347\u001B[0m     \u001B[38;5;28mself\u001B[39m,\n\u001B[0;32m    348\u001B[0m     X: Union[numpy\u001B[38;5;241m.\u001B[39mndarray, pandas\u001B[38;5;241m.\u001B[39mDataFrame],\n\u001B[1;32m   (...)\u001B[0m\n\u001B[0;32m    351\u001B[0m     cv: Optional[Union[Iterable, List]] \u001B[38;5;241m=\u001B[39m \u001B[38;5;28;01mNone\u001B[39;00m,\n\u001B[0;32m    352\u001B[0m ):\n\u001B[0;32m    353\u001B[0m     \u001B[38;5;124;03m\"\"\"Fit the AutoML model.\u001B[39;00m\n\u001B[0;32m    354\u001B[0m \n\u001B[0;32m    355\u001B[0m \u001B[38;5;124;03m    Arguments:\u001B[39;00m\n\u001B[1;32m   (...)\u001B[0m\n\u001B[0;32m    366\u001B[0m \u001B[38;5;124;03m        AutoML object: Returns `self`\u001B[39;00m\n\u001B[0;32m    367\u001B[0m \u001B[38;5;124;03m    \"\"\"\u001B[39;00m\n\u001B[1;32m--> 368\u001B[0m     \u001B[38;5;28;01mreturn\u001B[39;00m \u001B[38;5;28;43mself\u001B[39;49m\u001B[38;5;241;43m.\u001B[39;49m\u001B[43m_fit\u001B[49m\u001B[43m(\u001B[49m\u001B[43mX\u001B[49m\u001B[43m,\u001B[49m\u001B[43m \u001B[49m\u001B[43my\u001B[49m\u001B[43m,\u001B[49m\u001B[43m \u001B[49m\u001B[43msample_weight\u001B[49m\u001B[43m,\u001B[49m\u001B[43m \u001B[49m\u001B[43mcv\u001B[49m\u001B[43m)\u001B[49m\n",
      "File \u001B[1;32m~\\.conda\\envs\\Py310\\lib\\site-packages\\supervised\\base_automl.py:900\u001B[0m, in \u001B[0;36mBaseAutoML._fit\u001B[1;34m(self, X, y, sample_weight, cv)\u001B[0m\n\u001B[0;32m    898\u001B[0m     \u001B[38;5;28;01mreturn\u001B[39;00m\n\u001B[0;32m    899\u001B[0m \u001B[38;5;66;03m# Validate input and build dataframes\u001B[39;00m\n\u001B[1;32m--> 900\u001B[0m X, y, sample_weight \u001B[38;5;241m=\u001B[39m \u001B[38;5;28;43mself\u001B[39;49m\u001B[38;5;241;43m.\u001B[39;49m\u001B[43m_build_dataframe\u001B[49m\u001B[43m(\u001B[49m\u001B[43mX\u001B[49m\u001B[43m,\u001B[49m\u001B[43m \u001B[49m\u001B[43my\u001B[49m\u001B[43m,\u001B[49m\u001B[43m \u001B[49m\u001B[43msample_weight\u001B[49m\u001B[43m)\u001B[49m\n\u001B[0;32m    902\u001B[0m \u001B[38;5;28mself\u001B[39m\u001B[38;5;241m.\u001B[39mn_rows_in_ \u001B[38;5;241m=\u001B[39m X\u001B[38;5;241m.\u001B[39mshape[\u001B[38;5;241m0\u001B[39m]\n\u001B[0;32m    903\u001B[0m \u001B[38;5;28mself\u001B[39m\u001B[38;5;241m.\u001B[39mn_features_in_ \u001B[38;5;241m=\u001B[39m X\u001B[38;5;241m.\u001B[39mshape[\u001B[38;5;241m1\u001B[39m]\n",
      "File \u001B[1;32m~\\.conda\\envs\\Py310\\lib\\site-packages\\supervised\\base_automl.py:695\u001B[0m, in \u001B[0;36mBaseAutoML._build_dataframe\u001B[1;34m(self, X, y, sample_weight)\u001B[0m\n\u001B[0;32m    692\u001B[0m \u001B[38;5;66;03m# If Inputs are not pandas dataframes use scikit-learn validation for X array\u001B[39;00m\n\u001B[0;32m    693\u001B[0m \u001B[38;5;28;01mif\u001B[39;00m \u001B[38;5;129;01mnot\u001B[39;00m \u001B[38;5;28misinstance\u001B[39m(X, pd\u001B[38;5;241m.\u001B[39mDataFrame):\n\u001B[0;32m    694\u001B[0m     \u001B[38;5;66;03m# Validate X as array\u001B[39;00m\n\u001B[1;32m--> 695\u001B[0m     X \u001B[38;5;241m=\u001B[39m \u001B[43mcheck_array\u001B[49m\u001B[43m(\u001B[49m\u001B[43mX\u001B[49m\u001B[43m,\u001B[49m\u001B[43m \u001B[49m\u001B[43mensure_2d\u001B[49m\u001B[38;5;241;43m=\u001B[39;49m\u001B[38;5;28;43;01mFalse\u001B[39;49;00m\u001B[43m,\u001B[49m\u001B[43m \u001B[49m\u001B[43mforce_all_finite\u001B[49m\u001B[38;5;241;43m=\u001B[39;49m\u001B[38;5;28;43;01mFalse\u001B[39;49;00m\u001B[43m)\u001B[49m\n\u001B[0;32m    696\u001B[0m     \u001B[38;5;66;03m# Force X to be 2D\u001B[39;00m\n\u001B[0;32m    697\u001B[0m     X \u001B[38;5;241m=\u001B[39m np\u001B[38;5;241m.\u001B[39matleast_2d(X)\n",
      "File \u001B[1;32m~\\.conda\\envs\\Py310\\lib\\site-packages\\sklearn\\utils\\validation.py:843\u001B[0m, in \u001B[0;36mcheck_array\u001B[1;34m(array, accept_sparse, accept_large_sparse, dtype, order, copy, force_all_finite, ensure_2d, allow_nd, ensure_min_samples, ensure_min_features, estimator, input_name)\u001B[0m\n\u001B[0;32m    841\u001B[0m \u001B[38;5;28;01mif\u001B[39;00m sp\u001B[38;5;241m.\u001B[39missparse(array):\n\u001B[0;32m    842\u001B[0m     _ensure_no_complex_data(array)\n\u001B[1;32m--> 843\u001B[0m     array \u001B[38;5;241m=\u001B[39m \u001B[43m_ensure_sparse_format\u001B[49m\u001B[43m(\u001B[49m\n\u001B[0;32m    844\u001B[0m \u001B[43m        \u001B[49m\u001B[43marray\u001B[49m\u001B[43m,\u001B[49m\n\u001B[0;32m    845\u001B[0m \u001B[43m        \u001B[49m\u001B[43maccept_sparse\u001B[49m\u001B[38;5;241;43m=\u001B[39;49m\u001B[43maccept_sparse\u001B[49m\u001B[43m,\u001B[49m\n\u001B[0;32m    846\u001B[0m \u001B[43m        \u001B[49m\u001B[43mdtype\u001B[49m\u001B[38;5;241;43m=\u001B[39;49m\u001B[43mdtype\u001B[49m\u001B[43m,\u001B[49m\n\u001B[0;32m    847\u001B[0m \u001B[43m        \u001B[49m\u001B[43mcopy\u001B[49m\u001B[38;5;241;43m=\u001B[39;49m\u001B[43mcopy\u001B[49m\u001B[43m,\u001B[49m\n\u001B[0;32m    848\u001B[0m \u001B[43m        \u001B[49m\u001B[43mforce_all_finite\u001B[49m\u001B[38;5;241;43m=\u001B[39;49m\u001B[43mforce_all_finite\u001B[49m\u001B[43m,\u001B[49m\n\u001B[0;32m    849\u001B[0m \u001B[43m        \u001B[49m\u001B[43maccept_large_sparse\u001B[49m\u001B[38;5;241;43m=\u001B[39;49m\u001B[43maccept_large_sparse\u001B[49m\u001B[43m,\u001B[49m\n\u001B[0;32m    850\u001B[0m \u001B[43m        \u001B[49m\u001B[43mestimator_name\u001B[49m\u001B[38;5;241;43m=\u001B[39;49m\u001B[43mestimator_name\u001B[49m\u001B[43m,\u001B[49m\n\u001B[0;32m    851\u001B[0m \u001B[43m        \u001B[49m\u001B[43minput_name\u001B[49m\u001B[38;5;241;43m=\u001B[39;49m\u001B[43minput_name\u001B[49m\u001B[43m,\u001B[49m\n\u001B[0;32m    852\u001B[0m \u001B[43m    \u001B[49m\u001B[43m)\u001B[49m\n\u001B[0;32m    853\u001B[0m \u001B[38;5;28;01melse\u001B[39;00m:\n\u001B[0;32m    854\u001B[0m     \u001B[38;5;66;03m# If np.array(..) gives ComplexWarning, then we convert the warning\u001B[39;00m\n\u001B[0;32m    855\u001B[0m     \u001B[38;5;66;03m# to an error. This is needed because specifying a non complex\u001B[39;00m\n\u001B[0;32m    856\u001B[0m     \u001B[38;5;66;03m# dtype to the function converts complex to real dtype,\u001B[39;00m\n\u001B[0;32m    857\u001B[0m     \u001B[38;5;66;03m# thereby passing the test made in the lines following the scope\u001B[39;00m\n\u001B[0;32m    858\u001B[0m     \u001B[38;5;66;03m# of warnings context manager.\u001B[39;00m\n\u001B[0;32m    859\u001B[0m     \u001B[38;5;28;01mwith\u001B[39;00m warnings\u001B[38;5;241m.\u001B[39mcatch_warnings():\n",
      "File \u001B[1;32m~\\.conda\\envs\\Py310\\lib\\site-packages\\sklearn\\utils\\validation.py:522\u001B[0m, in \u001B[0;36m_ensure_sparse_format\u001B[1;34m(spmatrix, accept_sparse, dtype, copy, force_all_finite, accept_large_sparse, estimator_name, input_name)\u001B[0m\n\u001B[0;32m    519\u001B[0m _check_large_sparse(spmatrix, accept_large_sparse)\n\u001B[0;32m    521\u001B[0m \u001B[38;5;28;01mif\u001B[39;00m accept_sparse \u001B[38;5;129;01mis\u001B[39;00m \u001B[38;5;28;01mFalse\u001B[39;00m:\n\u001B[1;32m--> 522\u001B[0m     \u001B[38;5;28;01mraise\u001B[39;00m \u001B[38;5;167;01mTypeError\u001B[39;00m(\n\u001B[0;32m    523\u001B[0m         \u001B[38;5;124m\"\u001B[39m\u001B[38;5;124mA sparse matrix was passed, but dense \u001B[39m\u001B[38;5;124m\"\u001B[39m\n\u001B[0;32m    524\u001B[0m         \u001B[38;5;124m\"\u001B[39m\u001B[38;5;124mdata is required. Use X.toarray() to \u001B[39m\u001B[38;5;124m\"\u001B[39m\n\u001B[0;32m    525\u001B[0m         \u001B[38;5;124m\"\u001B[39m\u001B[38;5;124mconvert to a dense numpy array.\u001B[39m\u001B[38;5;124m\"\u001B[39m\n\u001B[0;32m    526\u001B[0m     )\n\u001B[0;32m    527\u001B[0m \u001B[38;5;28;01melif\u001B[39;00m \u001B[38;5;28misinstance\u001B[39m(accept_sparse, (\u001B[38;5;28mlist\u001B[39m, \u001B[38;5;28mtuple\u001B[39m)):\n\u001B[0;32m    528\u001B[0m     \u001B[38;5;28;01mif\u001B[39;00m \u001B[38;5;28mlen\u001B[39m(accept_sparse) \u001B[38;5;241m==\u001B[39m \u001B[38;5;241m0\u001B[39m:\n",
      "\u001B[1;31mTypeError\u001B[0m: A sparse matrix was passed, but dense data is required. Use X.toarray() to convert to a dense numpy array."
     ]
    }
   ],
   "source": [
    "from supervised.automl import AutoML\n",
    "\n",
    "# train models with AutoML (doesn't work, needs a dense numpy array which weighs 43Gb)\n",
    "text_clf = AutoML(mode=\"Compete\", eval_metric=\"f1\")\n",
    "text_clf.fit(X_train, y_train)"
   ],
   "metadata": {
    "collapsed": false,
    "pycharm": {
     "name": "#%%\n"
    }
   }
  },
  {
   "cell_type": "code",
   "execution_count": null,
   "outputs": [],
   "source": [
    "import numpy as np\n",
    "\n",
    "# Prédictions sur le dataset train\n",
    "predicted = text_clf.predict(X_train)\n",
    "np.mean(predicted == y_train)"
   ],
   "metadata": {
    "collapsed": false,
    "pycharm": {
     "name": "#%%\n"
    }
   }
  },
  {
   "cell_type": "code",
   "execution_count": null,
   "outputs": [],
   "source": [
    "# Prédictions sur le dataset test\n",
    "predicted = text_clf.predict(X_test)\n",
    "np.mean(predicted == y_test)"
   ],
   "metadata": {
    "collapsed": false,
    "pycharm": {
     "name": "#%%\n"
    }
   }
  },
  {
   "cell_type": "code",
   "execution_count": null,
   "outputs": [],
   "source": [
    "from sklearn import metrics\n",
    "\n",
    "print(metrics.classification_report(y_test, predicted))"
   ],
   "metadata": {
    "collapsed": false,
    "pycharm": {
     "name": "#%%\n"
    }
   }
  },
  {
   "cell_type": "code",
   "execution_count": null,
   "outputs": [],
   "source": [],
   "metadata": {
    "collapsed": false,
    "pycharm": {
     "name": "#%%\n"
    }
   }
  }
 ],
 "metadata": {
  "kernelspec": {
   "display_name": "Python 3",
   "language": "python",
   "name": "python3"
  },
  "language_info": {
   "codemirror_mode": {
    "name": "ipython",
    "version": 2
   },
   "file_extension": ".py",
   "mimetype": "text/x-python",
   "name": "python",
   "nbconvert_exporter": "python",
   "pygments_lexer": "ipython2",
   "version": "2.7.6"
  }
 },
 "nbformat": 4,
 "nbformat_minor": 0
}